{
  "nbformat": 4,
  "nbformat_minor": 0,
  "metadata": {
    "colab": {
      "provenance": [],
      "authorship_tag": "ABX9TyPLdWvaX77SOCcrIaV+nsEd",
      "include_colab_link": true
    },
    "kernelspec": {
      "name": "python3",
      "display_name": "Python 3"
    },
    "language_info": {
      "name": "python"
    }
  },
  "cells": [
    {
      "cell_type": "markdown",
      "metadata": {
        "id": "view-in-github",
        "colab_type": "text"
      },
      "source": [
        "<a href=\"https://colab.research.google.com/github/kukishov228/infalol/blob/main/11%D0%BD%D0%B5%D0%B4%D0%B5%D0%BB%D1%8F_%D0%A1%D1%82%D1%80%D1%83%D1%86%D0%BA%D0%B8%D0%B9%D0%94%D0%95_%D0%91%D0%98%D0%9A_24_%D0%98%D0%921.ipynb\" target=\"_parent\"><img src=\"https://colab.research.google.com/assets/colab-badge.svg\" alt=\"Open In Colab\"/></a>"
      ]
    },
    {
      "cell_type": "markdown",
      "source": [
        "n1\n"
      ],
      "metadata": {
        "id": "bOtI0-zhgzq8"
      }
    },
    {
      "cell_type": "code",
      "execution_count": 2,
      "metadata": {
        "id": "PCTrai2HXtqL"
      },
      "outputs": [],
      "source": [
        "import random\n",
        "with open('input.txt', 'r', encoding='utf-8') as file:\n",
        "  lines = file.readlines()\n",
        "with open('result.txt', 'w', encoding='utf-8') as outfile:\n",
        "    for line in lines:\n",
        "        random_number = random.randint(1, 500)\n",
        "        outfile.write(f\"{line.strip()} {random_number}\\n\")"
      ]
    },
    {
      "cell_type": "markdown",
      "source": [
        "n2"
      ],
      "metadata": {
        "id": "3I5xdfQwg20c"
      }
    },
    {
      "cell_type": "code",
      "source": [],
      "metadata": {
        "id": "slSYDzGNg4K2"
      },
      "execution_count": null,
      "outputs": []
    },
    {
      "cell_type": "code",
      "source": [],
      "metadata": {
        "id": "R58KnU1UlATc"
      },
      "execution_count": null,
      "outputs": []
    }
  ]
}