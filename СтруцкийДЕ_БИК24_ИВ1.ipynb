{
  "nbformat": 4,
  "nbformat_minor": 0,
  "metadata": {
    "colab": {
      "provenance": [],
      "authorship_tag": "ABX9TyODfFClDXHx5TLh7IxNFtcY",
      "include_colab_link": true
    },
    "kernelspec": {
      "name": "python3",
      "display_name": "Python 3"
    },
    "language_info": {
      "name": "python"
    }
  },
  "cells": [
    {
      "cell_type": "markdown",
      "metadata": {
        "id": "view-in-github",
        "colab_type": "text"
      },
      "source": [
        "<a href=\"https://colab.research.google.com/github/kukishov228/infalol/blob/main/%D0%A1%D1%82%D1%80%D1%83%D1%86%D0%BA%D0%B8%D0%B9%D0%94%D0%95_%D0%91%D0%98%D0%9A24_%D0%98%D0%921.ipynb\" target=\"_parent\"><img src=\"https://colab.research.google.com/assets/colab-badge.svg\" alt=\"Open In Colab\"/></a>"
      ]
    },
    {
      "cell_type": "markdown",
      "source": [
        "n1"
      ],
      "metadata": {
        "id": "DheD84WIBhhE"
      }
    },
    {
      "cell_type": "code",
      "execution_count": 10,
      "metadata": {
        "colab": {
          "base_uri": "https://localhost:8080/"
        },
        "id": "BvFsVd2FBfGe",
        "outputId": "d5a4fead-5ea1-488d-b1fb-1dd15cc2dd10"
      },
      "outputs": [
        {
          "output_type": "stream",
          "name": "stdout",
          "text": [
            "числа -  [1, 2, 3, 4, 5, 6, 7, 8, 9, 10]\n",
            "кувадраты -  [1, 4, 9, 16, 25, 36, 49, 64, 81, 100]\n",
            "кубы -  [1, 8, 27, 64, 125, 216, 343, 512, 729, 1000]\n"
          ]
        }
      ],
      "source": [
        "num = []\n",
        "sq = []\n",
        "cub = []\n",
        "\n",
        "for i in range(1, 11):\n",
        "  num.append(i)\n",
        "  sq.append(i**2)\n",
        "  cub.append(i**3)\n",
        "print(\"числа - \", num)\n",
        "print(\"кувадраты - \", sq)\n",
        "print(\"кубы - \", cub)"
      ]
    },
    {
      "cell_type": "markdown",
      "source": [
        "n2"
      ],
      "metadata": {
        "id": "8P1pVt5dFQic"
      }
    },
    {
      "cell_type": "code",
      "source": [
        "numb = []\n",
        "while True:\n",
        "  num = int(input('введи число (для завершения - 0): '))\n",
        "  if num == 0:\n",
        "    break\n",
        "  numb.append(num)\n",
        "print(numb)\n",
        "if numb:\n",
        "  minimum = min(numb)\n",
        "  maximum = max(numb)\n",
        "  otsort = sorted(numb)\n",
        "  otsort_min = sorted(numb, reverse=True)\n",
        "  dlina = len(numb)\n",
        "  kol_vo_edinits = numb.count(1)\n",
        "  summa = sum(numb)\n",
        "  last_index = len(numb) - 1\n",
        "  last_value = numb[last_index]\n",
        "print('min val = ', minimum)\n",
        "print('max val = ', maximum)\n",
        "print('otsortirovano = ', otsort)\n",
        "print('otsortirovano po min = ', otsort_min)\n",
        "print('dlina = ', dlina)\n",
        "print('kol-vo edinits = ', kol_vo_edinits)\n",
        "print('summa = ', summa)\n",
        "print('index last = ', last_index)\n",
        "print('znachenie last = ', last_value)\n"
      ],
      "metadata": {
        "colab": {
          "base_uri": "https://localhost:8080/"
        },
        "id": "AVo7HO2LE_tk",
        "outputId": "79df2de0-394d-49d4-b066-afa5321d5c65"
      },
      "execution_count": 31,
      "outputs": [
        {
          "output_type": "stream",
          "name": "stdout",
          "text": [
            "введи число (для завершения - 0): 1\n",
            "введи число (для завершения - 0): 21\n",
            "введи число (для завершения - 0): 2\n",
            "введи число (для завершения - 0): 5\n",
            "введи число (для завершения - 0): 8\n",
            "введи число (для завершения - 0): 123\n",
            "введи число (для завершения - 0): 54\n",
            "введи число (для завершения - 0): 87\n",
            "введи число (для завершения - 0): 12\n",
            "введи число (для завершения - 0): 3\n",
            "введи число (для завершения - 0): 0\n",
            "[1, 21, 2, 5, 8, 123, 54, 87, 12, 3]\n",
            "min val =  1\n",
            "max val =  123\n",
            "otsortirovano =  [1, 2, 3, 5, 8, 12, 21, 54, 87, 123]\n",
            "otsortirovano po min =  [123, 87, 54, 21, 12, 8, 5, 3, 2, 1]\n",
            "dlina =  10\n",
            "kol-vo edinits =  1\n",
            "summa =  316\n",
            "index last =  9\n",
            "znachenie last =  3\n"
          ]
        }
      ]
    },
    {
      "cell_type": "markdown",
      "source": [
        "n3"
      ],
      "metadata": {
        "id": "VL0APR2wLgL1"
      }
    },
    {
      "cell_type": "code",
      "source": [
        "numb = []\n",
        "while True:\n",
        "  num = int(input('введи число (для завершения - 0): '))\n",
        "  if num == 0:\n",
        "    break\n",
        "  if num % 2 == 0 and num % 10 != 0:\n",
        "    numb.append(num)\n",
        "print(numb)"
      ],
      "metadata": {
        "colab": {
          "base_uri": "https://localhost:8080/"
        },
        "id": "lN_Eq4XkLg5t",
        "outputId": "84a3c69b-3fa9-4232-e724-318e2285238d"
      },
      "execution_count": 34,
      "outputs": [
        {
          "output_type": "stream",
          "name": "stdout",
          "text": [
            "введи число (для завершения - 0): 10\n",
            "введи число (для завершения - 0): 20\n",
            "введи число (для завершения - 0): 30\n",
            "введи число (для завершения - 0): 1\n",
            "введи число (для завершения - 0): 2\n",
            "введи число (для завершения - 0): 46\n",
            "введи число (для завершения - 0): 32\n",
            "введи число (для завершения - 0): 0\n",
            "[2, 46, 32]\n"
          ]
        }
      ]
    }
  ]
}