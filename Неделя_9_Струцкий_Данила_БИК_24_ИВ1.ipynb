{
  "nbformat": 4,
  "nbformat_minor": 0,
  "metadata": {
    "colab": {
      "provenance": [],
      "authorship_tag": "ABX9TyNnshByWbVLK0JUPoUNf1AX",
      "include_colab_link": true
    },
    "kernelspec": {
      "name": "python3",
      "display_name": "Python 3"
    },
    "language_info": {
      "name": "python"
    }
  },
  "cells": [
    {
      "cell_type": "markdown",
      "metadata": {
        "id": "view-in-github",
        "colab_type": "text"
      },
      "source": [
        "<a href=\"https://colab.research.google.com/github/kukishov228/infalol/blob/main/%D0%9D%D0%B5%D0%B4%D0%B5%D0%BB%D1%8F_9_%D0%A1%D1%82%D1%80%D1%83%D1%86%D0%BA%D0%B8%D0%B9_%D0%94%D0%B0%D0%BD%D0%B8%D0%BB%D0%B0_%D0%91%D0%98%D0%9A_24_%D0%98%D0%921.ipynb\" target=\"_parent\"><img src=\"https://colab.research.google.com/assets/colab-badge.svg\" alt=\"Open In Colab\"/></a>"
      ]
    },
    {
      "cell_type": "markdown",
      "source": [
        "Задача 1"
      ],
      "metadata": {
        "id": "Q6Cjnpk3KdyG"
      }
    },
    {
      "cell_type": "code",
      "execution_count": 14,
      "metadata": {
        "colab": {
          "base_uri": "https://localhost:8080/"
        },
        "id": "66m_PgK5KNId",
        "outputId": "c305e7ec-3997-4c34-ddc9-16248ae2be6d"
      },
      "outputs": [
        {
          "output_type": "stream",
          "name": "stdout",
          "text": [
            "Введите число (0 для завершения)1\n",
            "Введите число (0 для завершения)1\n",
            "Введите число (0 для завершения)1\n",
            "Введите число (0 для завершения)2\n",
            "Введите число (0 для завершения)4\n",
            "Введите число (0 для завершения)78\n",
            "Введите число (0 для завершения)78\n",
            "Введите число (0 для завершения)56\n",
            "Введите число (0 для завершения)56\n",
            "Введите число (0 для завершения)65\n",
            "Введите число (0 для завершения)43\n",
            "Введите число (0 для завершения)6567\n",
            "Введите число (0 для завершения)435634\n",
            "Введите число (0 для завершения)7897\n",
            "Введите число (0 для завершения)43656\n",
            "Введите число (0 для завершения)0\n",
            "Словарь с подсчётом вхождений: {1: 3, 2: 1, 4: 1, 78: 2, 56: 2, 65: 1, 43: 1, 6567: 1, 435634: 1, 7897: 1, 43656: 1}\n",
            "Список уникальных значений: [1, 2, 4, 78, 56, 65, 43, 6567, 435634, 7897, 43656]\n"
          ]
        }
      ],
      "source": [
        "def main():\n",
        "  counts = {}\n",
        "  unique_values = []\n",
        "  while True:\n",
        "    number = int(input(\"Введите число (0 для завершения)\"))\n",
        "    if  number == 0:\n",
        "      break\n",
        "    if number in counts:\n",
        "      counts[number] += 1\n",
        "    else:\n",
        "      counts[number] = 1\n",
        "      unique_values.append(number)\n",
        "  print(\"Словарь с подсчётом вхождений:\", counts)\n",
        "  print(\"Список уникальных значений:\", unique_values)\n",
        "main()"
      ]
    },
    {
      "cell_type": "markdown",
      "source": [
        "N2"
      ],
      "metadata": {
        "id": "fGkCqpu3UqiM"
      }
    },
    {
      "cell_type": "code",
      "source": [
        "def main():\n",
        "  phone_book = {}\n",
        "  while True:\n",
        "    command = input(\"Введите команду (add для добав. записи, who для поиска номера, exit для выхода):\").strip().lower()\n",
        "    if command == 'add':\n",
        "      name = input('Введите  имя:')\n",
        "      phone_number = input(\"Введите номер телефона:\")\n",
        "      if name in phone_book:\n",
        "        phone_book[name].append(phone_number)\n",
        "        print(f\"Новый номер добавлен для {name}: {phone_number}\")\n",
        "      else:\n",
        "        phone_book[name] = [phone_number]\n",
        "        print(f\"Запись добвалена: {name} - {phone_number}\")\n",
        "    elif command == 'who':\n",
        "      name = input(\"Введите имя для поиска номера телефона:\")\n",
        "      if name in phone_book:\n",
        "        print(f\"Номер телефона для {name}: {', '.join phone_book[name]}\")\n",
        "      else:\n",
        "        print(f\"Запись для {name} не найдена\")\n",
        "    elif command == 'exit':\n",
        "      print(\"Выход из программы.\")\n",
        "      break\n",
        "    else:\n",
        "      print(\"Неизвестная комманда. Попробуйте снова.\")\n",
        "main()"
      ],
      "metadata": {
        "colab": {
          "base_uri": "https://localhost:8080/",
          "height": 519
        },
        "id": "C43grOLVUsIt",
        "outputId": "b5c1f1d4-cdb9-4ef6-f983-c7304dd226d3"
      },
      "execution_count": 26,
      "outputs": [
        {
          "name": "stdout",
          "output_type": "stream",
          "text": [
            "Введите команду (add для добав. записи, who для поиска номера, exit для выхода):add\n",
            "Введите  имя:danila\n",
            "Введите номер телефона:421343\n",
            "Запись добвалена: danila - 421343\n",
            "Введите команду (add для добав. записи, who для поиска номера, exit для выхода):add\n",
            "Введите  имя:76865876868568\n",
            "Введите номер телефона:who\n",
            "Запись добвалена: 76865876868568 - who\n",
            "Введите команду (add для добав. записи, who для поиска номера, exit для выхода):danila\n",
            "Неизвестная комманда. Попробуйте снова.\n",
            "Введите команду (add для добав. записи, who для поиска номера, exit для выхода):who\n",
            "Введите имя для поиска номера телефона:danila\n"
          ]
        },
        {
          "output_type": "error",
          "ename": "AttributeError",
          "evalue": "'builtin_function_or_method' object has no attribute 'phone_book'",
          "traceback": [
            "\u001b[0;31m---------------------------------------------------------------------------\u001b[0m",
            "\u001b[0;31mAttributeError\u001b[0m                            Traceback (most recent call last)",
            "\u001b[0;32m<ipython-input-26-9f7b3382181c>\u001b[0m in \u001b[0;36m<cell line: 25>\u001b[0;34m()\u001b[0m\n\u001b[1;32m     23\u001b[0m     \u001b[0;32melse\u001b[0m\u001b[0;34m:\u001b[0m\u001b[0;34m\u001b[0m\u001b[0;34m\u001b[0m\u001b[0m\n\u001b[1;32m     24\u001b[0m       \u001b[0mprint\u001b[0m\u001b[0;34m(\u001b[0m\u001b[0;34m\"Неизвестная комманда. Попробуйте снова.\"\u001b[0m\u001b[0;34m)\u001b[0m\u001b[0;34m\u001b[0m\u001b[0;34m\u001b[0m\u001b[0m\n\u001b[0;32m---> 25\u001b[0;31m \u001b[0mmain\u001b[0m\u001b[0;34m(\u001b[0m\u001b[0;34m)\u001b[0m\u001b[0;34m\u001b[0m\u001b[0;34m\u001b[0m\u001b[0m\n\u001b[0m",
            "\u001b[0;32m<ipython-input-26-9f7b3382181c>\u001b[0m in \u001b[0;36mmain\u001b[0;34m()\u001b[0m\n\u001b[1;32m     15\u001b[0m       \u001b[0mname\u001b[0m \u001b[0;34m=\u001b[0m \u001b[0minput\u001b[0m\u001b[0;34m(\u001b[0m\u001b[0;34m\"Введите имя для поиска номера телефона:\"\u001b[0m\u001b[0;34m)\u001b[0m\u001b[0;34m\u001b[0m\u001b[0;34m\u001b[0m\u001b[0m\n\u001b[1;32m     16\u001b[0m       \u001b[0;32mif\u001b[0m \u001b[0mname\u001b[0m \u001b[0;32min\u001b[0m \u001b[0mphone_book\u001b[0m\u001b[0;34m:\u001b[0m\u001b[0;34m\u001b[0m\u001b[0;34m\u001b[0m\u001b[0m\n\u001b[0;32m---> 17\u001b[0;31m         \u001b[0mprint\u001b[0m\u001b[0;34m(\u001b[0m\u001b[0;34mf\"Номер телефона для {name}: {', '.join.phone_book[name]}\"\u001b[0m\u001b[0;34m)\u001b[0m\u001b[0;34m\u001b[0m\u001b[0;34m\u001b[0m\u001b[0m\n\u001b[0m\u001b[1;32m     18\u001b[0m       \u001b[0;32melse\u001b[0m\u001b[0;34m:\u001b[0m\u001b[0;34m\u001b[0m\u001b[0;34m\u001b[0m\u001b[0m\n\u001b[1;32m     19\u001b[0m         \u001b[0mprint\u001b[0m\u001b[0;34m(\u001b[0m\u001b[0;34mf\"Запись для {name} не найдена\"\u001b[0m\u001b[0;34m)\u001b[0m\u001b[0;34m\u001b[0m\u001b[0;34m\u001b[0m\u001b[0m\n",
            "\u001b[0;31mAttributeError\u001b[0m: 'builtin_function_or_method' object has no attribute 'phone_book'"
          ]
        }
      ]
    }
  ]
}