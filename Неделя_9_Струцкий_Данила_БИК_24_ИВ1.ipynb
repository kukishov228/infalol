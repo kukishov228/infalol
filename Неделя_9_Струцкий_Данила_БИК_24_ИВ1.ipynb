{
  "nbformat": 4,
  "nbformat_minor": 0,
  "metadata": {
    "colab": {
      "provenance": [],
      "authorship_tag": "ABX9TyN6ZF/qWt8PeLzXGjrZVJeY",
      "include_colab_link": true
    },
    "kernelspec": {
      "name": "python3",
      "display_name": "Python 3"
    },
    "language_info": {
      "name": "python"
    }
  },
  "cells": [
    {
      "cell_type": "markdown",
      "metadata": {
        "id": "view-in-github",
        "colab_type": "text"
      },
      "source": [
        "<a href=\"https://colab.research.google.com/github/kukishov228/infalol/blob/main/%D0%9D%D0%B5%D0%B4%D0%B5%D0%BB%D1%8F_9_%D0%A1%D1%82%D1%80%D1%83%D1%86%D0%BA%D0%B8%D0%B9_%D0%94%D0%B0%D0%BD%D0%B8%D0%BB%D0%B0_%D0%91%D0%98%D0%9A_24_%D0%98%D0%921.ipynb\" target=\"_parent\"><img src=\"https://colab.research.google.com/assets/colab-badge.svg\" alt=\"Open In Colab\"/></a>"
      ]
    },
    {
      "cell_type": "markdown",
      "source": [
        "Задача 1"
      ],
      "metadata": {
        "id": "Q6Cjnpk3KdyG"
      }
    },
    {
      "cell_type": "code",
      "execution_count": 14,
      "metadata": {
        "colab": {
          "base_uri": "https://localhost:8080/"
        },
        "id": "66m_PgK5KNId",
        "outputId": "c305e7ec-3997-4c34-ddc9-16248ae2be6d"
      },
      "outputs": [
        {
          "output_type": "stream",
          "name": "stdout",
          "text": [
            "Введите число (0 для завершения)1\n",
            "Введите число (0 для завершения)1\n",
            "Введите число (0 для завершения)1\n",
            "Введите число (0 для завершения)2\n",
            "Введите число (0 для завершения)4\n",
            "Введите число (0 для завершения)78\n",
            "Введите число (0 для завершения)78\n",
            "Введите число (0 для завершения)56\n",
            "Введите число (0 для завершения)56\n",
            "Введите число (0 для завершения)65\n",
            "Введите число (0 для завершения)43\n",
            "Введите число (0 для завершения)6567\n",
            "Введите число (0 для завершения)435634\n",
            "Введите число (0 для завершения)7897\n",
            "Введите число (0 для завершения)43656\n",
            "Введите число (0 для завершения)0\n",
            "Словарь с подсчётом вхождений: {1: 3, 2: 1, 4: 1, 78: 2, 56: 2, 65: 1, 43: 1, 6567: 1, 435634: 1, 7897: 1, 43656: 1}\n",
            "Список уникальных значений: [1, 2, 4, 78, 56, 65, 43, 6567, 435634, 7897, 43656]\n"
          ]
        }
      ],
      "source": [
        "def main():\n",
        "  counts = {}\n",
        "  unique_values = []\n",
        "  while True:\n",
        "    number = int(input(\"Введите число (0 для завершения)\"))\n",
        "    if  number == 0:\n",
        "      break\n",
        "    if number in counts:\n",
        "      counts[number] += 1\n",
        "    else:\n",
        "      counts[number] = 1\n",
        "      unique_values.append(number)\n",
        "  print(\"Словарь с подсчётом вхождений:\", counts)\n",
        "  print(\"Список уникальных значений:\", unique_values)\n",
        "main()"
      ]
    },
    {
      "cell_type": "markdown",
      "source": [
        "N2"
      ],
      "metadata": {
        "id": "fGkCqpu3UqiM"
      }
    },
    {
      "cell_type": "code",
      "source": [
        "def main():\n",
        "  phone_book = {}\n",
        "  while True:\n",
        "    command = input(\"Введите команду (add для добав. записи, who для поиска номера, exit для выхода):\").strip().lower()\n",
        "    if command == 'add':\n",
        "      name = input('Введите  имя:')\n",
        "      phone_number = input\n",
        "       (\"Введите номер телефона:\")\n",
        "      phone_book[name] = phone_number\n",
        "      print(f'Запись добавлена: {name} - {phone_number}')\n",
        "    elif command == 'who':\n",
        "      name = input(\"Введите имя для поиска номера телефона:\")\n",
        "      if name in phone_book:\n",
        "        print(f\"Номер телефона для {name}: {phone_book[name]}\")\n",
        "      else:\n",
        "        print(f\"Запись для {name} не найдена\")\n",
        "    elif command == 'exit':\n",
        "      print(\"Выход из программы.\")\n",
        "      break\n",
        "    else:\n",
        "      print(\"Неизвестная комманда. Попробуйте снова.\")\n",
        "main()"
      ],
      "metadata": {
        "colab": {
          "base_uri": "https://localhost:8080/"
        },
        "id": "C43grOLVUsIt",
        "outputId": "f0974ec4-b075-4d27-9dab-63a2f961d143"
      },
      "execution_count": 20,
      "outputs": [
        {
          "output_type": "stream",
          "name": "stdout",
          "text": [
            "Введите команду (add для добав. записи, who для поиска номера, exit для выхода):add\n",
            "Введите  имя:Danila\n",
            "Введите номер телефона:1234-5678\n",
            "Запись добавлена: Danila - 1234-5678\n",
            "Введите команду (add для добав. записи, who для поиска номера, exit для выхода):add\n",
            "Введите  имя:Igor\n",
            "Введите номер телефона:8765-4321\n",
            "Запись добавлена: Igor - 8765-4321\n",
            "Введите команду (add для добав. записи, who для поиска номера, exit для выхода):who\n",
            "Введите имя для поиска номера телефона:Danila\n",
            "Номер телефона для Danila: 1234-5678\n",
            "Введите команду (add для добав. записи, who для поиска номера, exit для выхода):Igor\n",
            "Неизвестная комманда. Попробуйте снова.\n",
            "Введите команду (add для добав. записи, who для поиска номера, exit для выхода):Who\n",
            "Введите имя для поиска номера телефона:Igor\n",
            "Номер телефона для Igor: 8765-4321\n",
            "Введите команду (add для добав. записи, who для поиска номера, exit для выхода):sgfaadfgdafgdsgfg\n",
            "Неизвестная комманда. Попробуйте снова.\n",
            "Введите команду (add для добав. записи, who для поиска номера, exit для выхода):exit\n",
            "Выход из программы.\n"
          ]
        }
      ]
    }
  ]
}