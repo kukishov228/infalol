{
  "nbformat": 4,
  "nbformat_minor": 0,
  "metadata": {
    "colab": {
      "provenance": [],
      "authorship_tag": "ABX9TyP4Gx+W0co78f+5VCs2gBn/",
      "include_colab_link": true
    },
    "kernelspec": {
      "name": "python3",
      "display_name": "Python 3"
    },
    "language_info": {
      "name": "python"
    }
  },
  "cells": [
    {
      "cell_type": "markdown",
      "metadata": {
        "id": "view-in-github",
        "colab_type": "text"
      },
      "source": [
        "<a href=\"https://colab.research.google.com/github/kukishov228/infalol/blob/main/%D0%9F%D1%80%D0%B0%D0%BA%D1%82%D0%B8%D0%BA%D0%B8_%D0%A1%D1%82%D1%80%D1%83%D1%86%D0%BA%D0%B8%D0%B9%D0%94%D0%95_%D0%91%D0%98%D0%9A_24_%D0%98%D0%921.ipynb\" target=\"_parent\"><img src=\"https://colab.research.google.com/assets/colab-badge.svg\" alt=\"Open In Colab\"/></a>"
      ]
    },
    {
      "cell_type": "markdown",
      "source": [
        "Практика 2"
      ],
      "metadata": {
        "id": "G3-Rjw-__hEo"
      }
    },
    {
      "cell_type": "markdown",
      "source": [
        "№1"
      ],
      "metadata": {
        "id": "1P2KTGfB7tKb"
      }
    },
    {
      "cell_type": "code",
      "source": [
        "a = float(input(\"Введите длину первого катета (a): \"))\n",
        "b = float(input(\"Введите длину второго катета (b): \"))\n",
        "area = 0.5 * a * b\n",
        "print(\"Площадь прямоугольного треугольника с катетами\", a, \"и\", b, \"равна\", area)"
      ],
      "metadata": {
        "id": "djLlXlbK7vie"
      },
      "execution_count": null,
      "outputs": []
    },
    {
      "cell_type": "markdown",
      "source": [
        "№2"
      ],
      "metadata": {
        "id": "JXlbOCkZ73Oy"
      }
    },
    {
      "cell_type": "code",
      "source": [
        "number = int(input(\"Введите трехзначное число: \"))\n",
        "if 100 <= number <= 999:\n",
        "    hundreds = number // 100\n",
        "    tens = (number // 10) % 10\n",
        "    units = number % 10\n",
        "    print(\"Цифры числа:\", hundreds, tens, units)\n",
        "else:\n",
        "    print(\"Пожалуйста, введите корректное трехзначное число.\")"
      ],
      "metadata": {
        "id": "E-cEFZfd749g"
      },
      "execution_count": null,
      "outputs": []
    },
    {
      "cell_type": "markdown",
      "source": [
        "№3"
      ],
      "metadata": {
        "id": "1u1q8pkV75Mi"
      }
    },
    {
      "cell_type": "code",
      "source": [
        "n = int(input(\"Введите количество секунд: \"))\n",
        "hours = n // 3600\n",
        "remaining_seconds = n % 3600\n",
        "minutes = remaining_seconds // 60\n",
        "seconds = remaining_seconds % 60\n",
        "time_string = f\"Сейчас {hours:02}:{minutes:02}:{seconds:02}\"\n",
        "print(time_string)"
      ],
      "metadata": {
        "colab": {
          "base_uri": "https://localhost:8080/"
        },
        "id": "Hk3N_0wk8Kzz",
        "outputId": "dcd1012c-8a57-46aa-8d48-40db4c40e35b"
      },
      "execution_count": 1,
      "outputs": [
        {
          "output_type": "stream",
          "name": "stdout",
          "text": [
            "Введите количество секунд: 111111111\n",
            "Сейчас 30864:11:51\n"
          ]
        }
      ]
    },
    {
      "cell_type": "markdown",
      "source": [
        "Практика 3"
      ],
      "metadata": {
        "id": "nm3h2MHh8wJK"
      }
    },
    {
      "cell_type": "markdown",
      "source": [
        "№1"
      ],
      "metadata": {
        "id": "7S42Ltry9uwX"
      }
    },
    {
      "cell_type": "code",
      "source": [
        "input_string = input(\"Введите набор символов, разделенных запятыми: \")\n",
        "sequences = input_string.split(',')\n",
        "lengths = []\n",
        "for sequence in sequences:\n",
        "    lengths.append(len(sequence))\n",
        "lengths_string = ','.join(map(str, lengths))\n",
        "print(\"Ответ:\", lengths_string)"
      ],
      "metadata": {
        "colab": {
          "base_uri": "https://localhost:8080/"
        },
        "id": "IW7h1CcT9wh8",
        "outputId": "15692109-d2a7-433d-fb32-d01897b84e57"
      },
      "execution_count": 2,
      "outputs": [
        {
          "output_type": "stream",
          "name": "stdout",
          "text": [
            "Введите набор символов, разделенных запятыми: фывфыв,ывфвф,выфвф,фываываыфвавыф\n",
            "Ответ: 6,5,5,14\n"
          ]
        }
      ]
    },
    {
      "cell_type": "markdown",
      "source": [
        "№2"
      ],
      "metadata": {
        "id": "IrzB5iEq9www"
      }
    },
    {
      "cell_type": "code",
      "source": [
        "n = 8\n",
        "m = 5\n",
        "stroka = \"Привет, мир\"\n",
        "cleaned_stroka = stroka.replace(',', '').replace('.', '')\n",
        "words = cleaned_stroka.split()\n",
        "first_part = words[:n]\n",
        "second_part = words[m:]\n",
        "print(\"Ответ:\", first_part, second_part)"
      ],
      "metadata": {
        "colab": {
          "base_uri": "https://localhost:8080/"
        },
        "id": "BX0RJfr29xwj",
        "outputId": "f0ce0ea0-eb0b-4107-f143-f9369922b87f"
      },
      "execution_count": 3,
      "outputs": [
        {
          "output_type": "stream",
          "name": "stdout",
          "text": [
            "Ответ: ['Привет', 'мир'] []\n"
          ]
        }
      ]
    },
    {
      "cell_type": "markdown",
      "source": [
        "Практика 4"
      ],
      "metadata": {
        "id": "ff0ZQwcu-8B5"
      }
    },
    {
      "cell_type": "markdown",
      "source": [
        "№1"
      ],
      "metadata": {
        "id": "oFd2juo9--fS"
      }
    },
    {
      "cell_type": "code",
      "source": [
        "error = (input())\n",
        "match error:\n",
        "  case '400':\n",
        "    print('Bad Request')\n",
        "  case '401':\n",
        "    print('Unauthorized')\n",
        "  case '402':\n",
        "    print('Payment Required')\n",
        "  case '403':\n",
        "    print('Forbidden')\n",
        "  case '404':\n",
        "    print('Not Found')\n",
        "  case '405':\n",
        "    print('Method Not Allowed')\n",
        "  case '406':\n",
        "    print('Not Acceptable')\n",
        "  case '407':\n",
        "    print('Proxy Authentication Required')\n",
        "  case '408':\n",
        "    print('Request Timeout')\n",
        "  case '409':\n",
        "    print('Conflict')\n",
        "  case '410':\n",
        "    print('Gone')"
      ],
      "metadata": {
        "id": "MFAmh55w-_Ov"
      },
      "execution_count": null,
      "outputs": []
    },
    {
      "cell_type": "markdown",
      "source": [
        "№2"
      ],
      "metadata": {
        "id": "7H1h9CE4_ACS"
      }
    },
    {
      "cell_type": "code",
      "source": [
        "x = int(input('Vvedite x:'))\n",
        "y = int(input('Vvedite y:'))\n",
        "# х и y (100, 100)\n",
        "if x < 0 and y < 0:\n",
        "  print('3')\n",
        "elif x < 0 and y > 0:\n",
        "  print('2')\n",
        "elif x > 0 and y > 0:\n",
        "  print('1')\n",
        "elif x > 0 and y < 0:\n",
        "  print('4')"
      ],
      "metadata": {
        "id": "LuCpZfpD_A43"
      },
      "execution_count": null,
      "outputs": []
    },
    {
      "cell_type": "markdown",
      "source": [
        "№3"
      ],
      "metadata": {
        "id": "Y9ZyschM_BFQ"
      }
    },
    {
      "cell_type": "code",
      "source": [
        "year = int(input())\n",
        "if (year % 4 == 0 and year % 100 != 0) or year % 400 == 0:\n",
        "  print('yes')\n",
        "else:\n",
        "  print('no')"
      ],
      "metadata": {
        "id": "XkkUR8qv_BuO"
      },
      "execution_count": null,
      "outputs": []
    },
    {
      "cell_type": "markdown",
      "source": [
        "Практика 5"
      ],
      "metadata": {
        "id": "WdkjSFlf_nOw"
      }
    },
    {
      "cell_type": "markdown",
      "source": [
        "№1"
      ],
      "metadata": {
        "id": "6oGmptcV_vGB"
      }
    },
    {
      "cell_type": "code",
      "source": [
        "n = int(input(\"Введите первое число (n): \"))\n",
        "m = int(input(\"Введите второе число (m): \"))\n",
        "total_sum = 0\n",
        "if n <= m:\n",
        "    for number in range(n, m + 1):\n",
        "        total_sum += number\n",
        "else:\n",
        "    print(\"Ошибка: первое число должно быть меньше или равно второму числу.\")\n",
        "print(\"Сумма чисел от\", n, \"до\", m, \"равна\", total_sum)"
      ],
      "metadata": {
        "id": "rliqvgh-_wzg"
      },
      "execution_count": null,
      "outputs": []
    },
    {
      "cell_type": "markdown",
      "source": [
        "№2"
      ],
      "metadata": {
        "id": "Ih9NlGdi_xAG"
      }
    },
    {
      "cell_type": "code",
      "source": [
        "while True:\n",
        "    n = float(input(\"Введите первое число (n): \"))\n",
        "    m = float(input(\"Введите второе число (m): \"))\n",
        "    if n == m:\n",
        "        print(\"Вы ввели одинаковые числа. Завершение программы.\")\n",
        "    total_sum = n + m\n",
        "    print(\"Сумма чисел\", n, \"и\", m, \"равна\", total_sum)"
      ],
      "metadata": {
        "id": "yEDSKbYM_xwl"
      },
      "execution_count": null,
      "outputs": []
    },
    {
      "cell_type": "markdown",
      "source": [
        "№3"
      ],
      "metadata": {
        "id": "SQvxnD51_yA2"
      }
    },
    {
      "cell_type": "code",
      "source": [
        "with open(\"input.txt\", \"r\", encoding=\"utf-8\") as f:\n",
        "    data = f.readlines()\n",
        "data = [phrase.strip() for phrase in data]\n",
        "number_of_phrases = len(data)\n",
        "print(\"Количество фраз в документе:\", number_of_phrases)\n",
        "number_of_words = sum(len(phrase.split()) for phrase in data)\n",
        "print(\"Количество слов в документе:\", number_of_words)\n",
        "print(\"\\nПервые 20 поисковых фраз:\")\n",
        "for i in range(min(20, number_of_phrases)):\n",
        "    print(f\"Поисковая фраза - {data[i]}\")\n",
        "print(\"\\nФразы без слова 'сайт':\")\n",
        "for phrase in data:\n",
        "    if \"сайт\" in phrase:\n",
        "        modified_phrase = phrase.replace(\"сайт\", \"\").strip()\n",
        "        if modified_phrase:\n",
        "            print(modified_phrase)"
      ],
      "metadata": {
        "colab": {
          "base_uri": "https://localhost:8080/",
          "height": 211
        },
        "id": "sahZBeA2_ykG",
        "outputId": "017fec08-1f56-4d5c-e655-b4630a833df3"
      },
      "execution_count": 4,
      "outputs": [
        {
          "output_type": "error",
          "ename": "FileNotFoundError",
          "evalue": "[Errno 2] No such file or directory: 'input.txt'",
          "traceback": [
            "\u001b[0;31m---------------------------------------------------------------------------\u001b[0m",
            "\u001b[0;31mFileNotFoundError\u001b[0m                         Traceback (most recent call last)",
            "\u001b[0;32m<ipython-input-4-9c5be0276a02>\u001b[0m in \u001b[0;36m<cell line: 0>\u001b[0;34m()\u001b[0m\n\u001b[0;32m----> 1\u001b[0;31m \u001b[0;32mwith\u001b[0m \u001b[0mopen\u001b[0m\u001b[0;34m(\u001b[0m\u001b[0;34m\"input.txt\"\u001b[0m\u001b[0;34m,\u001b[0m \u001b[0;34m\"r\"\u001b[0m\u001b[0;34m,\u001b[0m \u001b[0mencoding\u001b[0m\u001b[0;34m=\u001b[0m\u001b[0;34m\"utf-8\"\u001b[0m\u001b[0;34m)\u001b[0m \u001b[0;32mas\u001b[0m \u001b[0mf\u001b[0m\u001b[0;34m:\u001b[0m\u001b[0;34m\u001b[0m\u001b[0;34m\u001b[0m\u001b[0m\n\u001b[0m\u001b[1;32m      2\u001b[0m     \u001b[0mdata\u001b[0m \u001b[0;34m=\u001b[0m \u001b[0mf\u001b[0m\u001b[0;34m.\u001b[0m\u001b[0mreadlines\u001b[0m\u001b[0;34m(\u001b[0m\u001b[0;34m)\u001b[0m\u001b[0;34m\u001b[0m\u001b[0;34m\u001b[0m\u001b[0m\n\u001b[1;32m      3\u001b[0m \u001b[0mdata\u001b[0m \u001b[0;34m=\u001b[0m \u001b[0;34m[\u001b[0m\u001b[0mphrase\u001b[0m\u001b[0;34m.\u001b[0m\u001b[0mstrip\u001b[0m\u001b[0;34m(\u001b[0m\u001b[0;34m)\u001b[0m \u001b[0;32mfor\u001b[0m \u001b[0mphrase\u001b[0m \u001b[0;32min\u001b[0m \u001b[0mdata\u001b[0m\u001b[0;34m]\u001b[0m\u001b[0;34m\u001b[0m\u001b[0;34m\u001b[0m\u001b[0m\n\u001b[1;32m      4\u001b[0m \u001b[0mnumber_of_phrases\u001b[0m \u001b[0;34m=\u001b[0m \u001b[0mlen\u001b[0m\u001b[0;34m(\u001b[0m\u001b[0mdata\u001b[0m\u001b[0;34m)\u001b[0m\u001b[0;34m\u001b[0m\u001b[0;34m\u001b[0m\u001b[0m\n\u001b[1;32m      5\u001b[0m \u001b[0mprint\u001b[0m\u001b[0;34m(\u001b[0m\u001b[0;34m\"Количество фраз в документе:\"\u001b[0m\u001b[0;34m,\u001b[0m \u001b[0mnumber_of_phrases\u001b[0m\u001b[0;34m)\u001b[0m\u001b[0;34m\u001b[0m\u001b[0;34m\u001b[0m\u001b[0m\n",
            "\u001b[0;31mFileNotFoundError\u001b[0m: [Errno 2] No such file or directory: 'input.txt'"
          ]
        }
      ]
    },
    {
      "cell_type": "markdown",
      "source": [
        "Практика 6"
      ],
      "metadata": {
        "id": "ferJxvgwBeJO"
      }
    },
    {
      "cell_type": "markdown",
      "source": [
        "№1"
      ],
      "metadata": {
        "id": "l7ErkKmwBg_s"
      }
    },
    {
      "cell_type": "code",
      "source": [
        "num = []\n",
        "sq = []\n",
        "cub = []\n",
        "\n",
        "for i in range(1, 11):\n",
        "  num.append(i)\n",
        "  sq.append(i**2)\n",
        "  cub.append(i**3)\n",
        "print(\"числа - \", num)\n",
        "print(\"кувадраты - \", sq)\n",
        "print(\"кубы - \", cub)"
      ],
      "metadata": {
        "id": "mBgvamo4Bhyu"
      },
      "execution_count": null,
      "outputs": []
    },
    {
      "cell_type": "markdown",
      "source": [
        "№2"
      ],
      "metadata": {
        "id": "rtZzr4mdBh_d"
      }
    },
    {
      "cell_type": "code",
      "source": [
        "numb = []\n",
        "while True:\n",
        "  num = int(input('введи число (для завершения - 0): '))\n",
        "  if num == 0:\n",
        "    break\n",
        "  numb.append(num)\n",
        "print(numb)\n",
        "if numb:\n",
        "  minimum = min(numb)\n",
        "  maximum = max(numb)\n",
        "  otsort = sorted(numb)\n",
        "  otsort_min = sorted(numb, reverse=True)\n",
        "  dlina = len(numb)\n",
        "  kol_vo_edinits = numb.count(1)\n",
        "  summa = sum(numb)\n",
        "  last_index = len(numb) - 1\n",
        "  last_value = numb[last_index]\n",
        "print('min val = ', minimum)\n",
        "print('max val = ', maximum)\n",
        "print('otsortirovano = ', otsort)\n",
        "print('otsortirovano po min = ', otsort_min)\n",
        "print('dlina = ', dlina)\n",
        "print('kol-vo edinits = ', kol_vo_edinits)\n",
        "print('summa = ', summa)\n",
        "print('index last = ', last_index)\n",
        "print('znachenie last = ', last_value)"
      ],
      "metadata": {
        "id": "8rSVYXHNBijd"
      },
      "execution_count": null,
      "outputs": []
    },
    {
      "cell_type": "markdown",
      "source": [
        "№3"
      ],
      "metadata": {
        "id": "-CYuCszKBius"
      }
    },
    {
      "cell_type": "code",
      "source": [
        "numb = []\n",
        "while True:\n",
        "  num = int(input('введи число (для завершения - 0): '))\n",
        "  if num == 0:\n",
        "    break\n",
        "  if num % 2 == 0 and num % 10 != 0:\n",
        "    numb.append(num)\n",
        "print(numb)"
      ],
      "metadata": {
        "id": "VC_e9TUqBjei"
      },
      "execution_count": null,
      "outputs": []
    },
    {
      "cell_type": "markdown",
      "source": [
        "Практика 9"
      ],
      "metadata": {
        "id": "eUqe2K9BB00U"
      }
    },
    {
      "cell_type": "markdown",
      "source": [
        "№1"
      ],
      "metadata": {
        "id": "bnbk92ZjB7-R"
      }
    },
    {
      "cell_type": "code",
      "source": [
        "def main():\n",
        "  counts = {}\n",
        "  unique_values = []\n",
        "  while True:\n",
        "    number = int(input(\"Введите число (0 для завершения)\"))\n",
        "    if  number == 0:\n",
        "      break\n",
        "    if number in counts:\n",
        "      counts[number] += 1\n",
        "    else:\n",
        "      counts[number] = 1\n",
        "      unique_values.append(number)\n",
        "  print(\"Словарь с подсчётом вхождений:\", counts)\n",
        "  print(\"Список уникальных значений:\", unique_values)\n",
        "main()"
      ],
      "metadata": {
        "id": "x1a_1mSLB8jv"
      },
      "execution_count": null,
      "outputs": []
    },
    {
      "cell_type": "markdown",
      "source": [
        "№2"
      ],
      "metadata": {
        "id": "UlmoDvX2B8yh"
      }
    },
    {
      "cell_type": "code",
      "source": [
        "def main():\n",
        "  phone_book = {}\n",
        "  while True:\n",
        "    command = input(\"Введите команду (add для добав. записи, who для поиска номера, exit для выхода):\").strip().lower()\n",
        "    if command == 'add':\n",
        "      name = input('Введите  имя:')\n",
        "      phone_number = input(\"Введите номер телефона:\")\n",
        "      if name in phone_book:\n",
        "        phone_book[name].append(phone_number)\n",
        "        print(f\"Новый номер добавлен для {name}: {phone_number}\")\n",
        "      else:\n",
        "        phone_book[name] = [phone_number]\n",
        "        print(f\"Запись добвалена: {name} - {phone_number}\")\n",
        "    elif command == 'who':\n",
        "      name = input(\"Введите имя для поиска номера телефона:\")\n",
        "      if name in phone_book:\n",
        "        print(f\"Номер телефона для {name}: {', '.join phone_book[name]}\")\n",
        "      else:\n",
        "        print(f\"Запись для {name} не найдена\")\n",
        "    elif command == 'exit':\n",
        "      print(\"Выход из программы.\")\n",
        "      break\n",
        "    else:\n",
        "      print(\"Неизвестная комманда. Попробуйте снова.\")\n",
        "main()"
      ],
      "metadata": {
        "id": "ioWVoY3DB9Qc"
      },
      "execution_count": null,
      "outputs": []
    },
    {
      "cell_type": "markdown",
      "source": [
        "Практика 10"
      ],
      "metadata": {
        "id": "QT5NwgIXCf0-"
      }
    },
    {
      "cell_type": "markdown",
      "source": [
        "№1"
      ],
      "metadata": {
        "id": "_e0FHmBWCt_K"
      }
    },
    {
      "cell_type": "code",
      "source": [
        "def sum_numbers():\n",
        "  total = 0\n",
        "  while (number := int(input(\"Введите число (0 для выхода):\"))) != 0:\n",
        "      total += number\n",
        "  print(f\"Сумма набранных чисел: {total}\")\n",
        "sum_numbers()"
      ],
      "metadata": {
        "id": "SciWf2lQCujd"
      },
      "execution_count": null,
      "outputs": []
    },
    {
      "cell_type": "markdown",
      "source": [
        "№2"
      ],
      "metadata": {
        "id": "1KjtPc_8Cuvy"
      }
    },
    {
      "cell_type": "code",
      "source": [
        "def collect_contacts():\n",
        "  contacts = {}\n",
        "  while True:\n",
        "    entry = input(\"Введите имя и номер телефона (или '0 0' для выхода): \")\n",
        "    name, phone = entry.split()\n",
        "    if name == '0' and phone == '0':\n",
        "      break\n",
        "    contacts[name] = phone\n",
        "  return contacts\n",
        "def get_sorted_contacts(contacts):\n",
        "  return sorted(contacts.items()), sorted (contacts.values())\n",
        "contacts = collect_contacts()\n",
        "sorted_names, sorted_numbers = get_sorted_contacts(contacts)\n",
        "print(\"Отсортированные имена: \", sorted_names)\n",
        "print(\"Отсортированные номера: \", sorted_numbers)"
      ],
      "metadata": {
        "id": "RZRk4cznCwLy"
      },
      "execution_count": null,
      "outputs": []
    }
  ]
}