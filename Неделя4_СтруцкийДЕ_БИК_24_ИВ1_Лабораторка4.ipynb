{
  "nbformat": 4,
  "nbformat_minor": 0,
  "metadata": {
    "colab": {
      "provenance": [],
      "authorship_tag": "ABX9TyN4fVVzZyZ3RqSg7fNpT2HN",
      "include_colab_link": true
    },
    "kernelspec": {
      "name": "python3",
      "display_name": "Python 3"
    },
    "language_info": {
      "name": "python"
    }
  },
  "cells": [
    {
      "cell_type": "markdown",
      "metadata": {
        "id": "view-in-github",
        "colab_type": "text"
      },
      "source": [
        "<a href=\"https://colab.research.google.com/github/kukishov228/infalol/blob/main/%D0%9D%D0%B5%D0%B4%D0%B5%D0%BB%D1%8F4_%D0%A1%D1%82%D1%80%D1%83%D1%86%D0%BA%D0%B8%D0%B9%D0%94%D0%95_%D0%91%D0%98%D0%9A_24_%D0%98%D0%921_%D0%9B%D0%B0%D0%B1%D0%BE%D1%80%D0%B0%D1%82%D0%BE%D1%80%D0%BA%D0%B04.ipynb\" target=\"_parent\"><img src=\"https://colab.research.google.com/assets/colab-badge.svg\" alt=\"Open In Colab\"/></a>"
      ]
    },
    {
      "cell_type": "markdown",
      "source": [
        "n1"
      ],
      "metadata": {
        "id": "mmNcFpriJCkz"
      }
    },
    {
      "cell_type": "code",
      "execution_count": 9,
      "metadata": {
        "colab": {
          "base_uri": "https://localhost:8080/"
        },
        "id": "51vF4rDSI9Vq",
        "outputId": "dc85116a-b793-41e8-aa50-cb71c23447f6"
      },
      "outputs": [
        {
          "output_type": "stream",
          "name": "stdout",
          "text": [
            "401\n",
            "Unauthorized\n"
          ]
        }
      ],
      "source": [
        "error = (input())\n",
        "match error:\n",
        "  case '400':\n",
        "    print('Bad Request')\n",
        "  case '401':\n",
        "    print('Unauthorized')\n",
        "  case '402':\n",
        "    print('Payment Required')\n",
        "  case '403':\n",
        "    print('Forbidden')\n",
        "  case '404':\n",
        "    print('Not Found')\n",
        "  case '405':\n",
        "    print('Method Not Allowed')\n",
        "  case '406':\n",
        "    print('Not Acceptable')\n",
        "  case '407':\n",
        "    print('Proxy Authentication Required')\n",
        "  case '408':\n",
        "    print('Request Timeout')\n",
        "  case '409':\n",
        "    print('Conflict')\n",
        "  case '410':\n",
        "    print('Gone')"
      ]
    },
    {
      "cell_type": "markdown",
      "source": [
        "n2"
      ],
      "metadata": {
        "id": "1SErHqItNAJ2"
      }
    },
    {
      "cell_type": "code",
      "source": [
        "x = int(input('Vvedite x:'))\n",
        "y = int(input('Vvedite y:'))\n",
        "# х и y (100, 100)\n",
        "if x < 0 and y < 0:\n",
        "  print('3')\n",
        "elif x < 0 and y > 0:\n",
        "  print('2')\n",
        "elif x > 0 and y > 0:\n",
        "  print('1')\n",
        "elif x > 0 and y < 0:\n",
        "  print('4')"
      ],
      "metadata": {
        "colab": {
          "base_uri": "https://localhost:8080/"
        },
        "id": "RPak4nLjNBJN",
        "outputId": "02660b48-c47c-41a6-f1e3-af1c7877b62d"
      },
      "execution_count": 20,
      "outputs": [
        {
          "output_type": "stream",
          "name": "stdout",
          "text": [
            "Vvedite x:1\n",
            "Vvedite y:-1\n",
            "4\n"
          ]
        }
      ]
    },
    {
      "cell_type": "markdown",
      "source": [
        "n3"
      ],
      "metadata": {
        "id": "84knZnq-Q4Dq"
      }
    },
    {
      "cell_type": "code",
      "source": [
        "year = int(input())\n",
        "if (year % 4 == 0 and year % 100 != 0) or year % 400 == 0:\n",
        "  print('yes')\n",
        "else:\n",
        "  print('no')"
      ],
      "metadata": {
        "colab": {
          "base_uri": "https://localhost:8080/"
        },
        "id": "HUrfCIMBQ6pE",
        "outputId": "12180916-69d4-41f7-fd9d-d5a9258e7f81"
      },
      "execution_count": 21,
      "outputs": [
        {
          "output_type": "stream",
          "name": "stdout",
          "text": [
            "2021\n",
            "no\n"
          ]
        }
      ]
    },
    {
      "cell_type": "markdown",
      "source": [
        "n4"
      ],
      "metadata": {
        "id": "5AeN5AvNSd6e"
      }
    },
    {
      "cell_type": "code",
      "source": [
        "a == true\n",
        "b == true\n",
        "print(a // b)"
      ],
      "metadata": {
        "colab": {
          "base_uri": "https://localhost:8080/",
          "height": 176
        },
        "id": "_pwNKZOgSe5I",
        "outputId": "c93a4bee-4af8-44d6-ebd8-d60eb509e961"
      },
      "execution_count": 23,
      "outputs": [
        {
          "output_type": "error",
          "ename": "NameError",
          "evalue": "name 'a' is not defined",
          "traceback": [
            "\u001b[0;31m---------------------------------------------------------------------------\u001b[0m",
            "\u001b[0;31mNameError\u001b[0m                                 Traceback (most recent call last)",
            "\u001b[0;32m<ipython-input-23-b63a67e9c4f4>\u001b[0m in \u001b[0;36m<cell line: 1>\u001b[0;34m()\u001b[0m\n\u001b[0;32m----> 1\u001b[0;31m \u001b[0ma\u001b[0m \u001b[0;34m==\u001b[0m \u001b[0mtrue\u001b[0m\u001b[0;34m\u001b[0m\u001b[0;34m\u001b[0m\u001b[0m\n\u001b[0m\u001b[1;32m      2\u001b[0m \u001b[0mb\u001b[0m \u001b[0;34m==\u001b[0m \u001b[0mtrue\u001b[0m\u001b[0;34m\u001b[0m\u001b[0;34m\u001b[0m\u001b[0m\n\u001b[1;32m      3\u001b[0m \u001b[0mprint\u001b[0m\u001b[0;34m(\u001b[0m\u001b[0ma\u001b[0m \u001b[0;34m//\u001b[0m \u001b[0mb\u001b[0m\u001b[0;34m)\u001b[0m\u001b[0;34m\u001b[0m\u001b[0;34m\u001b[0m\u001b[0m\n",
            "\u001b[0;31mNameError\u001b[0m: name 'a' is not defined"
          ]
        }
      ]
    }
  ]
}