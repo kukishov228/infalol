{
  "nbformat": 4,
  "nbformat_minor": 0,
  "metadata": {
    "colab": {
      "provenance": [],
      "authorship_tag": "ABX9TyO4gUR3ZELglzuOs12cSsjn",
      "include_colab_link": true
    },
    "kernelspec": {
      "name": "python3",
      "display_name": "Python 3"
    },
    "language_info": {
      "name": "python"
    }
  },
  "cells": [
    {
      "cell_type": "markdown",
      "metadata": {
        "id": "view-in-github",
        "colab_type": "text"
      },
      "source": [
        "<a href=\"https://colab.research.google.com/github/kukishov228/infalol/blob/main/%D0%9D%D0%B5%D0%B4%D0%B5%D0%BB%D1%8F10_%D0%A1%D1%82%D1%80%D1%83%D1%86%D0%BA%D0%B8%D0%B9_%D0%94%D0%95_%D0%91%D0%98%D0%9A_24_%D0%98%D0%921.ipynb\" target=\"_parent\"><img src=\"https://colab.research.google.com/assets/colab-badge.svg\" alt=\"Open In Colab\"/></a>"
      ]
    },
    {
      "cell_type": "markdown",
      "source": [],
      "metadata": {
        "id": "HGvdPIYwWUwd"
      }
    },
    {
      "cell_type": "markdown",
      "source": [
        "N1"
      ],
      "metadata": {
        "id": "4wBTmXTUT1H0"
      }
    },
    {
      "cell_type": "code",
      "execution_count": 7,
      "metadata": {
        "colab": {
          "base_uri": "https://localhost:8080/"
        },
        "id": "J7qmybVxRWLL",
        "outputId": "d4a50e59-883d-461c-9e5d-28cbd745b706"
      },
      "outputs": [
        {
          "output_type": "stream",
          "name": "stdout",
          "text": [
            "Введите число (0 для выхода):1\n",
            "Введите число (0 для выхода):2\n",
            "Введите число (0 для выхода):3\n",
            "Введите число (0 для выхода):4\n",
            "Введите число (0 для выхода):5\n",
            "Введите число (0 для выхода):6\n",
            "Введите число (0 для выхода):7\n",
            "Введите число (0 для выхода):22\n",
            "Введите число (0 для выхода):56\n",
            "Введите число (0 для выхода):54356\n",
            "Введите число (0 для выхода):1234\n",
            "Введите число (0 для выхода):0\n",
            "Сумма набранных чисел: 55696\n"
          ]
        }
      ],
      "source": [
        "def sum_numbers():\n",
        "  total = 0\n",
        "  while (number := int(input(\"Введите число (0 для выхода):\"))) != 0:\n",
        "      total += number\n",
        "  print(f\"Сумма набранных чисел: {total}\")\n",
        "sum_numbers()"
      ]
    },
    {
      "cell_type": "markdown",
      "source": [
        "N2"
      ],
      "metadata": {
        "id": "3r3F0KCZT5aE"
      }
    },
    {
      "cell_type": "code",
      "source": [
        "def collect_contacts():\n",
        "  contacts = {}\n",
        "  while True:\n",
        "    entry = input(\"Введите имя и номер телефона (или '0 0' для выхода): \")\n",
        "    name, phone = entry.split()\n",
        "    if name == '0' and phone == '0':\n",
        "      break\n",
        "    contacts[name] = phone\n",
        "  return contacts\n",
        "def get_sorted_contacts(contacts):\n",
        "  return sorted(contacts.items()), sorted (contacts.values())\n",
        "contacts = collect_contacts()\n",
        "sorted_names, sorted_numbers = get_sorted_contacts(contacts)\n",
        "print(\"Отсортированные имена: \", sorted_names)\n",
        "print(\"Отсортированные номера: \", sorted_numbers)"
      ],
      "metadata": {
        "colab": {
          "base_uri": "https://localhost:8080/"
        },
        "id": "cKGwhHH6T4m0",
        "outputId": "d47b9ba5-d9c3-48b8-85c5-19e38d163a40"
      },
      "execution_count": 8,
      "outputs": [
        {
          "output_type": "stream",
          "name": "stdout",
          "text": [
            "Введите имя и номер телефона (или '0 0' для выхода): Igor 12348765\n",
            "Введите имя и номер телефона (или '0 0' для выхода): oleg 43215678\n",
            "Введите имя и номер телефона (или '0 0' для выхода): gena 43218765\n",
            "Введите имя и номер телефона (или '0 0' для выхода): 0 0\n",
            "Отсортированные имена:  [('Igor', '12348765'), ('gena', '43218765'), ('oleg', '43215678')]\n",
            "Отсортированные номера:  ['12348765', '43215678', '43218765']\n"
          ]
        }
      ]
    }
  ]
}